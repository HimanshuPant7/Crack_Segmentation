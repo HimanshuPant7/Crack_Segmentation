{
  "nbformat": 4,
  "nbformat_minor": 0,
  "metadata": {
    "colab": {
      "provenance": [],
      "collapsed_sections": [
        "oBzE71Q9Q9Hz",
        "1BQs7D2TRFvk",
        "LOGVZ245RK8N",
        "SeiLlcUzR_Ro",
        "057y3qPmSMcp"
      ],
      "authorship_tag": "ABX9TyOxmZa5asLYYtLm6pRLbZAX",
      "include_colab_link": true
    },
    "kernelspec": {
      "name": "python3",
      "display_name": "Python 3"
    },
    "language_info": {
      "name": "python"
    }
  },
  "cells": [
    {
      "cell_type": "markdown",
      "metadata": {
        "id": "view-in-github",
        "colab_type": "text"
      },
      "source": [
        "<a href=\"https://colab.research.google.com/github/HimanshuPant7/Crack_Segmentation/blob/main/Concise_postprocessing_code.ipynb\" target=\"_parent\"><img src=\"https://colab.research.google.com/assets/colab-badge.svg\" alt=\"Open In Colab\"/></a>"
      ]
    },
    {
      "cell_type": "markdown",
      "source": [
        "# 0. Importing the necessary libraries"
      ],
      "metadata": {
        "id": "JU6J4N_ORT31"
      }
    },
    {
      "cell_type": "code",
      "source": [
        "from google.colab import drive\n",
        "import cv2\n",
        "from google.colab.patches import cv2_imshow\n",
        "import glob\n",
        "from PIL import Image\n",
        "import numpy as np\n",
        "import math\n",
        "import matplotlib.pyplot as plt\n",
        "import os"
      ],
      "metadata": {
        "id": "0pF73PVQgNZ1"
      },
      "execution_count": null,
      "outputs": []
    },
    {
      "cell_type": "markdown",
      "source": [
        "Mount Google Drive"
      ],
      "metadata": {
        "id": "A1s6_AHURcpV"
      }
    },
    {
      "cell_type": "code",
      "source": [
        "drive.mount('/content/drive')"
      ],
      "metadata": {
        "id": "1ckbevEFQ3ls"
      },
      "execution_count": null,
      "outputs": []
    },
    {
      "cell_type": "markdown",
      "source": [
        "# 1. Tiling the images"
      ],
      "metadata": {
        "id": "oBzE71Q9Q9Hz"
      }
    },
    {
      "cell_type": "code",
      "execution_count": null,
      "metadata": {
        "colab": {
          "base_uri": "https://localhost:8080/"
        },
        "id": "cJ3RFsY_f6YP",
        "outputId": "7ada2570-e843-4b61-deb4-c5f81be4ddad"
      },
      "outputs": [
        {
          "output_type": "stream",
          "name": "stdout",
          "text": [
            "Mounted at /content/drive\n",
            "Original name of the file is: Copy of AR10\n",
            "Shape of original image is (496, 755, 3)\n",
            "Tiled image number: 1\n",
            "Tiled image shape: (256, 256, 3)\n",
            "/content/drive/MyDrive/Integral_Code_files/Tiled_Images/Copy of AR10_Tiled_1.jpg\n",
            "Tiled image number: 2\n",
            "Tiled image shape: (256, 256, 3)\n",
            "/content/drive/MyDrive/Integral_Code_files/Tiled_Images/Copy of AR10_Tiled_2.jpg\n",
            "Tiled image number: 3\n",
            "Tiled image shape: (256, 243, 3)\n",
            "/content/drive/MyDrive/Integral_Code_files/Tiled_Images/Copy of AR10_Tiled_3.jpg\n",
            "Tiled image number: 4\n",
            "Tiled image shape: (240, 256, 3)\n",
            "/content/drive/MyDrive/Integral_Code_files/Tiled_Images/Copy of AR10_Tiled_4.jpg\n",
            "Tiled image number: 5\n",
            "Tiled image shape: (240, 256, 3)\n",
            "/content/drive/MyDrive/Integral_Code_files/Tiled_Images/Copy of AR10_Tiled_5.jpg\n",
            "Tiled image number: 6\n",
            "Tiled image shape: (240, 243, 3)\n",
            "/content/drive/MyDrive/Integral_Code_files/Tiled_Images/Copy of AR10_Tiled_6.jpg\n",
            "\n",
            "\n"
          ]
        }
      ],
      "source": [
        "# Set path for input images\n",
        "path_of_input_images = \"/content/drive/MyDrive/Integral_Code_files/Crack_Raw_Pictures/*\"\n",
        "raw_images = glob.glob(path_of_input_images)\n",
        "\n",
        "# Process each image\n",
        "for k in range(len(raw_images)):\n",
        "    path = raw_images[k]\n",
        "    # Extract original name of the file\n",
        "    original_name = path[len('/content/drive/MyDrive/Integral_Code_files/Crack_Raw_Pictures/'):-len('.jpg')]\n",
        "    print(f'Original name of the file is: {original_name}')\n",
        "\n",
        "    # Load full crack image\n",
        "    full_crack_img = cv2.imread(path)\n",
        "    print(f'Shape of original image is {full_crack_img.shape}')\n",
        "\n",
        "    count = 1\n",
        "    i = 0\n",
        "    while i < full_crack_img.shape[0]:\n",
        "        j = 0\n",
        "        while j < full_crack_img.shape[1]:\n",
        "            # Extract tiled image\n",
        "            TiledImg = full_crack_img[i:i+256, j:j+256]\n",
        "            print(f'Tiled image number: {count}')\n",
        "            print(f'Tiled image shape: {TiledImg.shape}')\n",
        "\n",
        "            # Set name and path for the tiled image\n",
        "            name_after_tiling = '/content/drive/MyDrive/Integral_Code_files/Tiled_Images/' + original_name + \"_Tiled_\" + str(count) + '.jpg'\n",
        "            print(name_after_tiling)\n",
        "\n",
        "            # Save the tiled image\n",
        "            cv2.imwrite(name_after_tiling, TiledImg)\n",
        "            count += 1\n",
        "            j += 256\n",
        "        i += 256\n",
        "    print(\"\\n\")\n",
        "\n",
        "# Wait for a key press to close windows (optional)\n",
        "cv2.waitKey(0)\n",
        "cv2.destroyAllWindows()\n"
      ]
    },
    {
      "cell_type": "markdown",
      "source": [
        "#  2. Scaling the images"
      ],
      "metadata": {
        "id": "1BQs7D2TRFvk"
      }
    },
    {
      "cell_type": "code",
      "source": [
        "# Set the directory containing the images\n",
        "directory = \"/content/drive/MyDrive/Integral_Code_files/Crack_Raw_Pictures\"\n",
        "\n",
        "# Get the file path of the first image with .jpg or .png extension in the directory\n",
        "file_path = glob.glob(directory + \"/*.jpg\") + glob.glob(directory + \"/*.png\")\n",
        "if file_path:\n",
        "    file_path = file_path[0]\n",
        "\n",
        "    # Read the image\n",
        "    img = cv2.imread(file_path)\n",
        "\n",
        "    # Get the width and height of the image\n",
        "    wid = img.shape[1]\n",
        "    hgt = img.shape[0]\n",
        "\n",
        "    # Print the width and height\n",
        "    print(f\"Width: {wid}\")\n",
        "    print(f\"Height: {hgt}\")\n",
        "else:\n",
        "    print(\"No image files found in the directory.\")"
      ],
      "metadata": {
        "colab": {
          "base_uri": "https://localhost:8080/"
        },
        "id": "Uit2AUoVhPJ2",
        "outputId": "acadf44e-f208-4635-ddc7-fd01ec51d979"
      },
      "execution_count": null,
      "outputs": [
        {
          "output_type": "stream",
          "name": "stdout",
          "text": [
            "Width: 755\n",
            "Height: 496\n"
          ]
        }
      ]
    },
    {
      "cell_type": "markdown",
      "source": [
        "#3. Overlaying the images to make them 256 X 256"
      ],
      "metadata": {
        "id": "LOGVZ245RK8N"
      }
    },
    {
      "cell_type": "code",
      "source": [
        "# Create a white image of size 256x256\n",
        "whiteimg = np.asarray(Image.new(\"RGB\", (256, 256), (255, 255, 255)))\n",
        "whiteimg2 = whiteimg.copy()\n",
        "\n",
        "# Set path for tiled images\n",
        "path_of_tiled_images = \"/content/drive/MyDrive/Integral_Code_files/Tiled_Images/*\"\n",
        "tiled_images = glob.glob(path_of_tiled_images)\n",
        "print(tiled_images)\n",
        "\n",
        "# Process each tiled image\n",
        "for k in range(len(tiled_images)):\n",
        "    whiteimg2 = whiteimg.copy()\n",
        "\n",
        "    # Extract path and original name of the tiled image\n",
        "    path = tiled_images[k]\n",
        "    original_name = path[len('/content/drive/MyDrive/Integral_Code_files/Tiled_Images/'):len(path)-len('.jpg')]\n",
        "    print(f'Original name of the tiled image is: {original_name}')\n",
        "\n",
        "    # Read the tiled image\n",
        "    images_tiled = cv2.imread(path)\n",
        "    print(f'Shape of the original image is {images_tiled.shape}')\n",
        "\n",
        "    # Overlay the tiled image on the white image\n",
        "    s_img = images_tiled\n",
        "    l_img = whiteimg2\n",
        "    l_img[0:s_img.shape[0], 0:s_img.shape[1]] = s_img\n",
        "\n",
        "    # Set name and path for the overlaid image\n",
        "    name_after_overlay = '/content/drive/MyDrive/Integral_Code_files/Overlaid_Images/' + \"Overlaid\" + original_name + '.jpg'\n",
        "    print(name_after_overlay)\n",
        "\n",
        "    # Save the overlaid image\n",
        "    cv2.imwrite(name_after_overlay, l_img)"
      ],
      "metadata": {
        "colab": {
          "base_uri": "https://localhost:8080/"
        },
        "id": "xeNF5mu0j-SO",
        "outputId": "5a545227-733b-4346-ab2c-3b53dd56047e"
      },
      "execution_count": null,
      "outputs": [
        {
          "output_type": "stream",
          "name": "stdout",
          "text": [
            "['/content/drive/MyDrive/Integral_Code_files/Tiled_Images/Copy of AR10_Tiled_1.jpg', '/content/drive/MyDrive/Integral_Code_files/Tiled_Images/Copy of AR10_Tiled_2.jpg', '/content/drive/MyDrive/Integral_Code_files/Tiled_Images/Copy of AR10_Tiled_3.jpg', '/content/drive/MyDrive/Integral_Code_files/Tiled_Images/Copy of AR10_Tiled_4.jpg', '/content/drive/MyDrive/Integral_Code_files/Tiled_Images/Copy of AR10_Tiled_5.jpg', '/content/drive/MyDrive/Integral_Code_files/Tiled_Images/Copy of AR10_Tiled_6.jpg']\n",
            "Original name of the tiled image is: Copy of AR10_Tiled_1\n",
            "Shape of the original image is (256, 256, 3)\n",
            "/content/drive/MyDrive/Integral_Code_files/Overlaid_Images/OverlaidCopy of AR10_Tiled_1.jpg\n",
            "Original name of the tiled image is: Copy of AR10_Tiled_2\n",
            "Shape of the original image is (256, 256, 3)\n",
            "/content/drive/MyDrive/Integral_Code_files/Overlaid_Images/OverlaidCopy of AR10_Tiled_2.jpg\n",
            "Original name of the tiled image is: Copy of AR10_Tiled_3\n",
            "Shape of the original image is (256, 243, 3)\n",
            "/content/drive/MyDrive/Integral_Code_files/Overlaid_Images/OverlaidCopy of AR10_Tiled_3.jpg\n",
            "Original name of the tiled image is: Copy of AR10_Tiled_4\n",
            "Shape of the original image is (240, 256, 3)\n",
            "/content/drive/MyDrive/Integral_Code_files/Overlaid_Images/OverlaidCopy of AR10_Tiled_4.jpg\n",
            "Original name of the tiled image is: Copy of AR10_Tiled_5\n",
            "Shape of the original image is (240, 256, 3)\n",
            "/content/drive/MyDrive/Integral_Code_files/Overlaid_Images/OverlaidCopy of AR10_Tiled_5.jpg\n",
            "Original name of the tiled image is: Copy of AR10_Tiled_6\n",
            "Shape of the original image is (240, 243, 3)\n",
            "/content/drive/MyDrive/Integral_Code_files/Overlaid_Images/OverlaidCopy of AR10_Tiled_6.jpg\n"
          ]
        }
      ]
    },
    {
      "cell_type": "markdown",
      "source": [
        "#4. CNN Model\n",
        "RUN THIS CNN CODE: https://colab.research.google.com/drive/1pmRyodSxImi4OBcF1dMxOmCbKoEcVs9C?authuser=1#scrollTo=wFxsiYMMM2Fs"
      ],
      "metadata": {
        "id": "n7UNTSEFRsw_"
      }
    },
    {
      "cell_type": "markdown",
      "source": [
        "#5. Stitching"
      ],
      "metadata": {
        "id": "SeiLlcUzR_Ro"
      }
    },
    {
      "cell_type": "code",
      "source": [
        "# Calculate the number of tiles in width and height\n",
        "w = math.ceil(wid / 256)\n",
        "h = math.ceil(hgt / 256)\n",
        "\n",
        "# Create a new green image with dimensions based on the number of tiles\n",
        "newimg = np.asarray(Image.new(\"RGB\", (w * 256, h * 256), (0, 255, 0)))\n",
        "newimg2 = newimg.copy()\n",
        "k = 0\n",
        "i = 0\n",
        "\n",
        "# Iterate over the rows and columns of tiles\n",
        "while i < (h * 256):\n",
        "    j = 0\n",
        "    while j < (w * 256) and k < (w * h):\n",
        "        print(k)\n",
        "        # Construct the path of the cropped image\n",
        "        path = os.path.join(path_of_input_images, \"Prediction{}.jpg\".format(k + 1))\n",
        "        print(path)\n",
        "\n",
        "        # Read the cropped image\n",
        "        images_cropped = cv2.imread(path)\n",
        "        newimg2[i:i+256, j:j+256] = images_cropped\n",
        "        k += 1\n",
        "        j += 256\n",
        "    i += 256\n",
        "\n",
        "# Display the stitched image\n",
        "cv2_imshow(newimg2)\n",
        "\n",
        "# Extract the original name from the path\n",
        "original_name = path[len('/content/drive/MyDrive/Integral_Code_files/Crack_Raw_Pictures/'):len(path)-len('.jpg')]\n",
        "\n",
        "# Set the name and path for the stitched image\n",
        "name_after_stitching = '/content/drive/MyDrive/Integral_Code_files/Stitched_Images/' + original_name + \"_Stitched\" + '.jpg'\n",
        "print(name_after_stitching)\n",
        "\n",
        "# Save the stitched image\n",
        "cv2.imwrite(name_after_stitching, newimg2)\n",
        "\n",
        "cv2.waitKey(0)\n",
        "cv2.destroyAllWindows()\n"
      ],
      "metadata": {
        "id": "nt2bxgVFnoPw"
      },
      "execution_count": null,
      "outputs": []
    },
    {
      "cell_type": "markdown",
      "source": [
        "#6. Cropping to the original size after stitching"
      ],
      "metadata": {
        "id": "057y3qPmSMcp"
      }
    },
    {
      "cell_type": "code",
      "source": [
        "# Set the path of input stitched images\n",
        "path_of_input_images = '/content/drive/MyDrive/Integral_Code_files/Stitched_Images/*'\n",
        "before_processing = glob.glob(path_of_input_images)\n",
        "\n",
        "# Process each stitched image\n",
        "for k in range(len(before_processing)):\n",
        "    path = before_processing[k]\n",
        "    original_name = path[len('/content/drive/MyDrive/Integral_Code_files/Stitched_Images/'):len(path)-len('.jpg')]\n",
        "\n",
        "    # Set the name and path for the cropped image\n",
        "    name_after_cropping = '/content/drive/MyDrive/Integral_Code_files/Cropped2_Images/' + original_name + \"_Cropped\" + '.jpg'\n",
        "\n",
        "    # Read the stitched image\n",
        "    StitchedImg = cv2.imread(path)\n",
        "\n",
        "    # Crop the stitched image\n",
        "    CroppedImg = StitchedImg[0:hgt, 0:wid]\n",
        "\n",
        "    # Save the cropped image\n",
        "    cv2.imwrite(name_after_cropping, CroppedImg)\n",
        "\n",
        "# Display the last cropped image\n",
        "cv2_imshow(CroppedImg)\n",
        "cv2.waitKey(0)\n",
        "cv2.destroyAllWindows()\n"
      ],
      "metadata": {
        "id": "8F3C7gDQpHg_"
      },
      "execution_count": null,
      "outputs": []
    }
  ]
}